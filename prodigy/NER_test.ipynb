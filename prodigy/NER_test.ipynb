{
 "cells": [
  {
   "cell_type": "code",
   "execution_count": 13,
   "id": "bef6ece9",
   "metadata": {},
   "outputs": [],
   "source": [
    "import requests\n",
    "res = requests.get(\"https://cat-fact.herokuapp.com/facts\").json()"
   ]
  },
  {
   "cell_type": "code",
   "execution_count": 14,
   "id": "b2cb7427",
   "metadata": {},
   "outputs": [
    {
     "name": "stdout",
     "output_type": "stream",
     "text": [
      "{'text': 'Cats make about 100 different sounds. Dogs make only about 10.'}\n",
      "{'text': 'Domestic cats spend about 70 percent of the day sleeping and 15 percent of the day grooming.'}\n",
      "{'text': \"I don't know anything about cats.\"}\n",
      "{'text': 'The technical term for a cat’s hairball is a bezoar.'}\n",
      "{'text': 'Cats are the most popular pet in the United States: There are 88 million pet cats and 74 million dogs.'}\n"
     ]
    }
   ],
   "source": [
    "for fact in res:\n",
    "    print({\"text\": fact[\"text\"]})"
   ]
  },
  {
   "cell_type": "code",
   "execution_count": 12,
   "id": "7d90571a",
   "metadata": {},
   "outputs": [
    {
     "data": {
      "text/plain": [
       "<Response [200]>"
      ]
     },
     "execution_count": 12,
     "metadata": {},
     "output_type": "execute_result"
    }
   ],
   "source": [
    "res"
   ]
  },
  {
   "cell_type": "code",
   "execution_count": null,
   "id": "1bc61454",
   "metadata": {},
   "outputs": [],
   "source": []
  }
 ],
 "metadata": {
  "kernelspec": {
   "display_name": "Python 3 (ipykernel)",
   "language": "python",
   "name": "python3"
  },
  "language_info": {
   "codemirror_mode": {
    "name": "ipython",
    "version": 3
   },
   "file_extension": ".py",
   "mimetype": "text/x-python",
   "name": "python",
   "nbconvert_exporter": "python",
   "pygments_lexer": "ipython3",
   "version": "3.9.10"
  }
 },
 "nbformat": 4,
 "nbformat_minor": 5
}
